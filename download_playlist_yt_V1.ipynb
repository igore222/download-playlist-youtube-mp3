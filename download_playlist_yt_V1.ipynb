{
 "cells": [
  {
   "cell_type": "code",
   "execution_count": 34,
   "id": "8a68e625-a12f-4186-9a59-163bd935f7e3",
   "metadata": {},
   "outputs": [
    {
     "name": "stdout",
     "output_type": "stream",
     "text": [
      "Requirement already satisfied: pathlib in c:\\users\\anton\\anaconda3\\lib\\site-packages (1.0.1)\n"
     ]
    }
   ],
   "source": [
    "!pip install pathlib"
   ]
  },
  {
   "cell_type": "code",
   "execution_count": 40,
   "id": "23b70821-5558-4fa3-bacc-a7b18ef5c791",
   "metadata": {
    "scrolled": true
   },
   "outputs": [
    {
     "name": "stdout",
     "output_type": "stream",
     "text": [
      "Requirement already satisfied: pytube in c:\\users\\anton\\anaconda3\\lib\\site-packages (15.0.0)\n"
     ]
    }
   ],
   "source": [
    "!pip install pytube"
   ]
  },
  {
   "cell_type": "code",
   "execution_count": 39,
   "id": "0121155c-40b4-4c9b-baa3-b35f92b9b050",
   "metadata": {},
   "outputs": [
    {
     "name": "stdout",
     "output_type": "stream",
     "text": [
      "Bento e Totó -  Funk do Patinho (Desenho Infantil) foi baixado e convertido com sucesso para MP3.\n",
      "FUNK do Pão de Queijo | Bolofofos foi baixado e convertido com sucesso para MP3.\n",
      "O Patinho Colorido foi baixado e convertido com sucesso para MP3.\n",
      "DOGUITO | BOLOFOFOS  [Público em Geral] foi baixado e convertido com sucesso para MP3.\n",
      "Upa Cavalinho foi baixado e convertido com sucesso para MP3.\n",
      "Greve De Beijo (Ao Vivo) foi baixado e convertido com sucesso para MP3.\n",
      "BOLOFOFOS | Tá na hora do PAPA foi baixado e convertido com sucesso para MP3.\n",
      "Dona Aranha - Galinha Pintadinha 3 - OFICIAL foi baixado e convertido com sucesso para MP3.\n",
      "Essa Morena (Ao Vivo) foi baixado e convertido com sucesso para MP3.\n",
      "Dança Maluca foi baixado e convertido com sucesso para MP3.\n",
      "Bola Bolinha foi baixado e convertido com sucesso para MP3.\n",
      "Chuva Chove no Chuveiro | BOLOFOFOS [ Hora do banho ] foi baixado e convertido com sucesso para MP3.\n",
      "Misturando os Bichos foi baixado e convertido com sucesso para MP3.\n",
      "Na Feira (Dona Ana, na feira tem Banana) foi baixado e convertido com sucesso para MP3.\n",
      "Little Beat Buddies - Happy Kids Sunscreen Song foi baixado e convertido com sucesso para MP3.\n",
      "KabUnÇa | Bolofofos [Clipe Novo] foi baixado e convertido com sucesso para MP3.\n",
      "Sítio do Seu Lobato foi baixado e convertido com sucesso para MP3.\n",
      "Zebra Preta e Zebra Branca foi baixado e convertido com sucesso para MP3.\n",
      "Meu Pintinho Amarelinho foi baixado e convertido com sucesso para MP3.\n",
      "Trenzinho foi baixado e convertido com sucesso para MP3.\n",
      "Little Beat Buddies - Let's Go Outside And Have Some Fun foi baixado e convertido com sucesso para MP3.\n",
      "Voa, Abelhinha foi baixado e convertido com sucesso para MP3.\n",
      "Roda Roda Roda foi baixado e convertido com sucesso para MP3.\n",
      "Deu a Louca Na Fazenda foi baixado e convertido com sucesso para MP3.\n",
      "De Novo foi baixado e convertido com sucesso para MP3.\n",
      "Galinha Pintadinha 3 - A Casa da Galinha - Galinha Pintadinha 3 foi baixado e convertido com sucesso para MP3.\n",
      "Little Beat Buddies - Twinkle Twinkle Little Star foi baixado e convertido com sucesso para MP3.\n",
      "Cão Amigo foi baixado e convertido com sucesso para MP3.\n",
      "Minha Família foi baixado e convertido com sucesso para MP3.\n",
      "Formiguinha foi baixado e convertido com sucesso para MP3.\n",
      "Pula Pipoquinha foi baixado e convertido com sucesso para MP3.\n",
      "Troca a Letra foi baixado e convertido com sucesso para MP3.\n",
      "Correndo Atrás foi baixado e convertido com sucesso para MP3.\n",
      "BOLOFOFOS | Mamãe eu Risquei o Sofá  [4K] foi baixado e convertido com sucesso para MP3.\n",
      "Fazendinha foi baixado e convertido com sucesso para MP3.\n",
      "Tudo É Grande No Elefante foi baixado e convertido com sucesso para MP3.\n",
      "A Casa -  Vinicius de Moraes - Clipe Galinha Pintadinha foi baixado e convertido com sucesso para MP3.\n",
      "Mariana foi baixado e convertido com sucesso para MP3.\n",
      "Little Beat Buddies - Meow Meow Meow foi baixado e convertido com sucesso para MP3.\n",
      "A Baratinha foi baixado e convertido com sucesso para MP3.\n",
      "Minhoca foi baixado e convertido com sucesso para MP3.\n",
      "Mestre André - Galinha Pintadinha 2 - OFICIAL foi baixado e convertido com sucesso para MP3.\n",
      "ÁGUA DE COCO - Bolofofos Completo foi baixado e convertido com sucesso para MP3.\n",
      "Trem de Ferro foi baixado e convertido com sucesso para MP3.\n",
      "Little Beat Buddies - Colors of the Rainbow foi baixado e convertido com sucesso para MP3.\n",
      "Pintinho Amarelinho foi baixado e convertido com sucesso para MP3.\n",
      "Sítio do Picapau Amarelo foi baixado e convertido com sucesso para MP3.\n",
      "Bento e Totó - Fundo do Mar (Desenho Infantil) foi baixado e convertido com sucesso para MP3.\n",
      "Sambalelê foi baixado e convertido com sucesso para MP3.\n",
      "Hora do Grito foi baixado e convertido com sucesso para MP3.\n",
      "Viajar Pelo Safari foi baixado e convertido com sucesso para MP3.\n",
      "Sopa foi baixado e convertido com sucesso para MP3.\n",
      "Música das Vogais foi baixado e convertido com sucesso para MP3.\n",
      "Fundo do Mar foi baixado e convertido com sucesso para MP3.\n",
      "Pátio Lá de Casa foi baixado e convertido com sucesso para MP3.\n",
      "Como é verde na floresta foi baixado e convertido com sucesso para MP3.\n",
      "BOLOFOFOS | DIA DE RELAX (Novo Clipe Oficial) foi baixado e convertido com sucesso para MP3.\n",
      "Bento e Totó - Arraiá do Bento (Desenho Infantil) foi baixado e convertido com sucesso para MP3.\n",
      "Any Gabrielly - Saber Quem Sou (De \"Moana\") foi baixado e convertido com sucesso para MP3.\n",
      "Música para dormir - Música de Ninar para crianças do Elefantinho Bonitinho foi baixado e convertido com sucesso para MP3.\n",
      "Festa Na Floresta foi baixado e convertido com sucesso para MP3.\n",
      "Galinha do Vizinho foi baixado e convertido com sucesso para MP3.\n",
      "Bento e Totó - Água (Desenho Infantil) foi baixado e convertido com sucesso para MP3.\n",
      "Dona Girafa foi baixado e convertido com sucesso para MP3.\n",
      "Cinco Patinhos (Remix) foi baixado e convertido com sucesso para MP3.\n",
      "Eu Quero Ver Você Me Pegar foi baixado e convertido com sucesso para MP3.\n",
      "Superfantástico foi baixado e convertido com sucesso para MP3.\n",
      "SOLTA O BATIDÃO | Bolofofos ( dos criadores de Funk do Pão de Queijo ) foi baixado e convertido com sucesso para MP3.\n",
      "Esplêndida Fauna foi baixado e convertido com sucesso para MP3.\n",
      "Fui Morar Numa Casinha foi baixado e convertido com sucesso para MP3.\n",
      "Mundo Bita - Querida Chupeta, Bye-Bye foi baixado e convertido com sucesso para MP3.\n",
      "Bob Zoom Completo - Brincadeiras Infantis | Vídeo Musical Infantil Oficial @BobZoom foi baixado e convertido com sucesso para MP3.\n",
      "Cão Camarada foi baixado e convertido com sucesso para MP3.\n"
     ]
    },
    {
     "ename": "FileExistsError",
     "evalue": "[WinError 183] Não é possível criar um arquivo já existente: 'C:\\\\Users\\\\anton\\\\./Sítio do Seu Lobato.webm' -> 'C:\\\\Users\\\\anton\\\\Sítio do Seu Lobato.mp3'",
     "output_type": "error",
     "traceback": [
      "\u001b[1;31m---------------------------------------------------------------------------\u001b[0m",
      "\u001b[1;31mFileExistsError\u001b[0m                           Traceback (most recent call last)",
      "Cell \u001b[1;32mIn[39], line 21\u001b[0m\n\u001b[0;32m     19\u001b[0m base, ext \u001b[38;5;241m=\u001b[39m os\u001b[38;5;241m.\u001b[39mpath\u001b[38;5;241m.\u001b[39msplitext(out_file)\n\u001b[0;32m     20\u001b[0m new_file \u001b[38;5;241m=\u001b[39m Path(\u001b[38;5;124mf\u001b[39m\u001b[38;5;124m'\u001b[39m\u001b[38;5;132;01m{\u001b[39;00mbase\u001b[38;5;132;01m}\u001b[39;00m\u001b[38;5;124m.mp3\u001b[39m\u001b[38;5;124m'\u001b[39m)\n\u001b[1;32m---> 21\u001b[0m os\u001b[38;5;241m.\u001b[39mrename(out_file, new_file)\n\u001b[0;32m     22\u001b[0m \u001b[38;5;28;01mif\u001b[39;00m new_file\u001b[38;5;241m.\u001b[39mexists():\n\u001b[0;32m     23\u001b[0m     \u001b[38;5;28mprint\u001b[39m(\u001b[38;5;124mf\u001b[39m\u001b[38;5;124m'\u001b[39m\u001b[38;5;132;01m{\u001b[39;00myt\u001b[38;5;241m.\u001b[39mtitle\u001b[38;5;132;01m}\u001b[39;00m\u001b[38;5;124m foi baixado e convertido com sucesso para MP3.\u001b[39m\u001b[38;5;124m'\u001b[39m)\n",
      "\u001b[1;31mFileExistsError\u001b[0m: [WinError 183] Não é possível criar um arquivo já existente: 'C:\\\\Users\\\\anton\\\\./Sítio do Seu Lobato.webm' -> 'C:\\\\Users\\\\anton\\\\Sítio do Seu Lobato.mp3'"
     ]
    }
   ],
   "source": [
    "for url in playlist.video_urls:\n",
    "    yt = YouTube(url)\n",
    "\n",
    "    # Filtrando as streams de áudio\n",
    "    audio_streams = yt.streams.filter(only_audio=True)\n",
    "    \n",
    "    if not audio_streams:\n",
    "        print(f'Não foi possível encontrar uma stream de áudio para {yt.title}.')\n",
    "        continue\n",
    "    \n",
    "    # Selecionando a última stream de áudio\n",
    "    video = audio_streams.last()\n",
    "    \n",
    "    if not video:\n",
    "        print(f'Não foi possível obter a stream de áudio para {yt.title}.')\n",
    "        continue\n",
    "\n",
    "    dir_download = \"C:\\Users\\anton\\OneDrive\\Área de Trabalho\\aniversario\"\n",
    "    out_file = video.download(output_path=DOWNLOAD_DIR)\n",
    "    base, ext = os.path.splitext(out_file)\n",
    "    new_file = Path(f'{base}.mp3')\n",
    "    os.rename(out_file, new_file)\n",
    "    if new_file.exists():\n",
    "        print(f'{yt.title} foi baixado e convertido com sucesso para MP3.')\n",
    "    else:\n",
    "        print(f'Erro ao baixar e converter {yt.title} para MP3.')\n"
   ]
  }
 ],
 "metadata": {
  "kernelspec": {
   "display_name": "Python 3 (ipykernel)",
   "language": "python",
   "name": "python3"
  },
  "language_info": {
   "codemirror_mode": {
    "name": "ipython",
    "version": 3
   },
   "file_extension": ".py",
   "mimetype": "text/x-python",
   "name": "python",
   "nbconvert_exporter": "python",
   "pygments_lexer": "ipython3",
   "version": "3.11.7"
  }
 },
 "nbformat": 4,
 "nbformat_minor": 5
}
